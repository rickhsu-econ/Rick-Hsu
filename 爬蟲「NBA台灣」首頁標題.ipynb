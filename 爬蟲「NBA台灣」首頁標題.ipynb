{
 "cells": [
  {
   "cell_type": "code",
   "execution_count": 1,
   "metadata": {},
   "outputs": [],
   "source": [
    "import requests\n",
    "from bs4 import BeautifulSoup\n",
    "\n",
    "# 下載 NBA台灣 首頁內容\n",
    "r = requests.get('https://nba.udn.com/nba/index')\n",
    "\n",
    "# 確認是否下載成功\n",
    "if r.status_code == requests.codes.ok:\n",
    "  # 以 BeautifulSoup 解析 HTML 程式碼\n",
    "    soup = BeautifulSoup(r.text, 'html.parser')\n",
    "    stories = soup.find_all('a', class_='story-title')\n",
    "    for s in stories:\n",
    "    # 新聞標題\n",
    "        print(\"標題：\" + s.text)\n",
    "else:\n",
    "    print('invalid')"
   ]
  }
 ],
 "metadata": {
  "kernelspec": {
   "display_name": "Python 3",
   "language": "python",
   "name": "python3"
  },
  "language_info": {
   "codemirror_mode": {
    "name": "ipython",
    "version": 3
   },
   "file_extension": ".py",
   "mimetype": "text/x-python",
   "name": "python",
   "nbconvert_exporter": "python",
   "pygments_lexer": "ipython3",
   "version": "3.7.4"
  }
 },
 "nbformat": 4,
 "nbformat_minor": 2
}
