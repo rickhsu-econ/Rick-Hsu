{
 "cells": [
  {
   "cell_type": "code",
   "execution_count": 5,
   "metadata": {},
   "outputs": [
    {
     "name": "stdout",
     "output_type": "stream",
     "text": [
      "標題：「黃安條款」防濫用 網一面倒\n",
      "標題：杜紫宸激動：要我預立遺囑嗎\n",
      "標題：韓返台打疫苗遭拒 衛局挺醫院\n",
      "標題：聯發科分紅 員工平均年拿80萬\n",
      "標題：政府要趁疫亂破壞國土計畫法？\n",
      "標題：盲劍客復活？戴維斯5場敲3轟\n",
      "標題：你累了嗎？詹皇竟犯誇張失誤\n",
      "標題：直接宣告球種 包爾諷刺太空人\n",
      "標題：專打公鹿 熱火本季對戰沒輸過\n",
      "標題：初春爆紅款 球鞋配夢幻櫻花粉\n",
      "標題：學陳雷15年「廖雷」挨告慘了\n",
      "標題：老公探班方志友 竟要她親別人\n",
      "標題：心室輔助器 醫：最多撐3個月\n",
      "標題：驚悚片有深度「隱形人」談家暴\n",
      "標題：黑歷史！小辣椒最討厭這作品\n",
      "標題：爸送古董木椅 情侶看到好害羞\n",
      "標題：男友送鑽戒求婚 她知價格心碎\n",
      "標題：滷味夯10年 不到2hr台南人搶光\n",
      "標題：幽靈瀑布藏桃園 聽到卻看不到\n",
      "標題：想找單純三溫暖 警留言萬人讚\n",
      "標題：走路就喘 50歲梁佑南狂甩13kg\n",
      "標題：2度登日雜封面 啦啦隊女神爆紅\n",
      "標題：糖尿病別吃水果？這4樣反而好\n",
      "標題：MIT保養 網推「神油」買1送1\n",
      "標題：在家喝手沖咖啡 達人私房公開\n",
      "標題：「奈何2」首富假婚合約曝光了\n",
      "標題：免替身？穿越劇90秒片場花絮\n",
      "標題：獨家播！霸道CEO愛上外星女\n",
      "標題：職場潛規則「檢法」OL告贏了\n",
      "標題：你有當有錢人潛力嗎 21題\b檢測\n"
     ]
    }
   ],
   "source": [
    "import requests\n",
    "from bs4 import BeautifulSoup\n",
    "\n",
    "# 下載 NBA台灣 首頁內容\n",
    "r = requests.get('https://yahoo.com/')\n",
    "\n",
    "# 確認是否下載成功\n",
    "if r.status_code == requests.codes.ok:\n",
    "  # 以 BeautifulSoup 解析 HTML 程式碼\n",
    "    soup = BeautifulSoup(r.text, 'html.parser')\n",
    "    stories = soup.find_all('a', class_='story-title')\n",
    "    for s in stories:\n",
    "    # 新聞標題\n",
    "        print(\"標題：\" + s.text)\n",
    "else:\n",
    "    print('invalid')"
   ]
  },
  {
   "cell_type": "code",
   "execution_count": null,
   "metadata": {},
   "outputs": [],
   "source": []
  },
  {
   "cell_type": "code",
   "execution_count": null,
   "metadata": {},
   "outputs": [],
   "source": []
  }
 ],
 "metadata": {
  "kernelspec": {
   "display_name": "Python 3",
   "language": "python",
   "name": "python3"
  },
  "language_info": {
   "codemirror_mode": {
    "name": "ipython",
    "version": 3
   },
   "file_extension": ".py",
   "mimetype": "text/x-python",
   "name": "python",
   "nbconvert_exporter": "python",
   "pygments_lexer": "ipython3",
   "version": "3.7.4"
  }
 },
 "nbformat": 4,
 "nbformat_minor": 2
}
